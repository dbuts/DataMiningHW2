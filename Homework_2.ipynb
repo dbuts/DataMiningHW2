{
 "nbformat": 4,
 "nbformat_minor": 2,
 "metadata": {
  "language_info": {
   "name": "python",
   "codemirror_mode": {
    "name": "ipython",
    "version": 3
   }
  },
  "orig_nbformat": 2,
  "file_extension": ".py",
  "mimetype": "text/x-python",
  "name": "python",
  "npconvert_exporter": "python",
  "pygments_lexer": "ipython3",
  "version": 3
 },
 "cells": [
  {
   "cell_type": "markdown",
   "metadata": {},
   "source": [
    "# Excersises"
   ]
  },
  {
   "cell_type": "markdown",
   "metadata": {},
   "source": [
    "2)\n",
    ">a)\n",
    "<br>b)\n",
    "<br>c)\n",
    "<br>d)\n",
    "<br>e)\n",
    "<br>f)\n",
    "<br>g)\n",
    "\n",
    "\n",
    "---\n",
    "\n",
    "\n",
    "3)\n",
    ">a)\n",
    "<br>b)\n",
    "<br>c)\n",
    "<br>d)\n",
    "<br>e)\n",
    "<br>f)\n",
    "\n",
    "\n",
    "---\n",
    "\n",
    "\n",
    "5)\n",
    ">a)\n",
    "<br>b)\n",
    "<br>c)\n",
    "\n",
    "---\n",
    "\n",
    "\n",
    "6)\n",
    ">a)\n",
    "<br>b)\n",
    "<br>c)\n",
    "\n",
    "---\n",
    "\n",
    "\n",
    "7)\n",
    ">a)\n",
    "<br>b)\n",
    "<br>c)\n",
    "\n",
    "\n",
    "---\n",
    "\n",
    "\n",
    "8)\n",
    ">a)\n",
    "<br>b)\n",
    "<br>c)\n",
    "<br>d)\n",
    "<br>e)\n",
    "\n",
    "\n",
    "---\n",
    "\n",
    "\n",
    "12)\n",
    ">a)\n",
    "<br>b)"
   ]
  }
 ]
}